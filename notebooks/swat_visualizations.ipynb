{
 "cells": [
  {
   "cell_type": "code",
   "execution_count": null,
   "metadata": {},
   "outputs": [],
   "source": [
    "import pandas as pd\n",
    "from sklearn.preprocessing import MinMaxScaler"
   ]
  },
  {
   "cell_type": "code",
   "execution_count": null,
   "metadata": {},
   "outputs": [],
   "source": [
    "swat_data_parquet = pd.read_parquet(\"../data/SWaT/swat.parquet.gzip\", engine=\"pyarrow\")"
   ]
  },
  {
   "cell_type": "code",
   "execution_count": null,
   "metadata": {},
   "outputs": [],
   "source": [
    "swat_data_parquet.head()"
   ]
  },
  {
   "cell_type": "code",
   "execution_count": null,
   "metadata": {},
   "outputs": [],
   "source": [
    "swat_data_parquet.drop(\"Normal/Attack\", axis=1, inplace=True)"
   ]
  },
  {
   "attachments": {},
   "cell_type": "markdown",
   "metadata": {},
   "source": [
    "# Throw out constant signals"
   ]
  },
  {
   "cell_type": "code",
   "execution_count": null,
   "metadata": {},
   "outputs": [],
   "source": [
    "threshold = 0.0\n",
    "swat_data_parquet_nonconstant = swat_data_parquet.drop(\n",
    "    swat_data_parquet.std()[swat_data_parquet.std() <= threshold].index.values, axis=1\n",
    ")"
   ]
  },
  {
   "cell_type": "code",
   "execution_count": null,
   "metadata": {},
   "outputs": [],
   "source": [
    "swat_data_parquet_nonconstant.describe()"
   ]
  },
  {
   "attachments": {},
   "cell_type": "markdown",
   "metadata": {},
   "source": [
    "# Scaling"
   ]
  },
  {
   "cell_type": "code",
   "execution_count": null,
   "metadata": {},
   "outputs": [],
   "source": [
    "scaler = MinMaxScaler()"
   ]
  },
  {
   "cell_type": "code",
   "execution_count": null,
   "metadata": {},
   "outputs": [],
   "source": [
    "swat_data_parquet_scaled = scaler.fit_transform(swat_data_parquet_nonconstant)"
   ]
  },
  {
   "cell_type": "code",
   "execution_count": null,
   "metadata": {},
   "outputs": [],
   "source": [
    "swat_data_parquet_scaled_df = pd.DataFrame(\n",
    "    swat_data_parquet_scaled, columns=swat_data_parquet_nonconstant.columns\n",
    ")"
   ]
  },
  {
   "cell_type": "code",
   "execution_count": null,
   "metadata": {},
   "outputs": [],
   "source": [
    "swat_data_parquet_scaled_df.head()"
   ]
  },
  {
   "attachments": {},
   "cell_type": "markdown",
   "metadata": {},
   "source": [
    "# Get and plot correlations"
   ]
  },
  {
   "cell_type": "code",
   "execution_count": null,
   "metadata": {},
   "outputs": [],
   "source": [
    "from string import ascii_letters\n",
    "\n",
    "import matplotlib.pyplot as plt\n",
    "import numpy as np\n",
    "import pandas as pd\n",
    "import seaborn as sns\n",
    "\n",
    "sns.set_theme(style=\"white\")"
   ]
  },
  {
   "cell_type": "code",
   "execution_count": null,
   "metadata": {},
   "outputs": [],
   "source": [
    "# Compute the correlation matrix\n",
    "corr = swat_data_parquet_scaled_df.corr()\n",
    "\n",
    "# Set up the matplotlib figure\n",
    "f, ax = plt.subplots(figsize=(11, 11))\n",
    "\n",
    "# Draw the heatmap with the mask and correct aspect ratio\n",
    "sns.heatmap(\n",
    "    corr,\n",
    "    mask=np.eye(40),\n",
    "    cmap=\"viridis\",\n",
    "    square=True,\n",
    "    center=0.0,\n",
    "    linewidths=0.5,\n",
    "    cbar_kws={\"shrink\": 0.5},\n",
    "    linecolor=\"grey\",\n",
    "    clip_on=False,\n",
    "    vmin=-1,\n",
    "    vmax=1,\n",
    ")"
   ]
  },
  {
   "attachments": {},
   "cell_type": "markdown",
   "metadata": {},
   "source": [
    "# Plot connections between same sensor types"
   ]
  },
  {
   "cell_type": "code",
   "execution_count": null,
   "metadata": {},
   "outputs": [],
   "source": [
    "# Compute the correlation matrix\n",
    "corr_types = swat_data_parquet_scaled_df.corr()\n",
    "\n",
    "# Drop last 3 characters of column names\n",
    "corr_types.columns = corr_types.columns.str[:-3]\n",
    "# Drop last 3 characters of index names\n",
    "corr_types.index = corr_types.index.str[:-3]\n",
    "corr_types\n",
    "\n",
    "# Check if column name for entry is equal to row name, if so, set to 1\n",
    "for i in range(corr_types.shape[0]):\n",
    "    for j in range(corr_types.shape[1]):\n",
    "        if corr_types.columns[i] == corr_types.index.to_list()[j]:\n",
    "            corr_types.iloc[i, j] = 1\n",
    "        else:\n",
    "            corr_types.iloc[i, j] = 0\n",
    "\n",
    "# Set up the matplotlib figure\n",
    "f, ax = plt.subplots(figsize=(11, 11))\n",
    "\n",
    "# Draw the heatmap with the mask and correct aspect ratio\n",
    "sns.heatmap(\n",
    "    corr_types,\n",
    "    mask=np.eye(40),\n",
    "    cmap=\"viridis\",\n",
    "    square=True,\n",
    "    linewidths=0.5,\n",
    "    cbar_kws={\"shrink\": 0.5},\n",
    "    linecolor=\"grey\",\n",
    "    clip_on=False,\n",
    "    vmin=0,\n",
    "    vmax=1,\n",
    ")"
   ]
  },
  {
   "attachments": {},
   "cell_type": "markdown",
   "metadata": {},
   "source": [
    "# Plot connections that involve one categorical signal"
   ]
  },
  {
   "cell_type": "code",
   "execution_count": null,
   "metadata": {},
   "outputs": [],
   "source": [
    "# Compute the correlation matrix\n",
    "corr_cat = swat_data_parquet_scaled_df.corr()\n",
    "\n",
    "# Drop last 3 characters of column names\n",
    "corr_cat.columns = corr_cat.columns.str[:-3]\n",
    "# Drop last 3 characters of index names\n",
    "corr_cat.index = corr_cat.index.str[:-3]\n",
    "corr_cat\n",
    "\n",
    "# Check if column name for entry is equal to row name, if so, set to 1\n",
    "for i in range(corr_cat.shape[0]):\n",
    "    for j in range(corr_cat.shape[1]):\n",
    "        if (\n",
    "            corr_cat.columns[i][0] == \"P\"\n",
    "            or corr_cat.columns[i][0] == \"M\"\n",
    "            or corr_cat.index.to_list()[j][0] == \"P\"\n",
    "            or corr_cat.index.to_list()[j][0] == \"M\"\n",
    "        ):\n",
    "            corr_cat.iloc[i, j] = 1\n",
    "        else:\n",
    "            corr_cat.iloc[i, j] = 0\n",
    "\n",
    "# Set up the matplotlib figure\n",
    "f, ax = plt.subplots(figsize=(11, 11))\n",
    "\n",
    "# Draw the heatmap with the mask and correct aspect ratio\n",
    "sns.heatmap(\n",
    "    corr_cat,\n",
    "    mask=np.eye(40),\n",
    "    cmap=\"viridis\",\n",
    "    square=True,\n",
    "    linewidths=0.5,\n",
    "    cbar_kws={\"shrink\": 0.5},\n",
    "    linecolor=\"grey\",\n",
    "    clip_on=False,\n",
    "    vmin=0,\n",
    "    vmax=1,\n",
    ")"
   ]
  },
  {
   "attachments": {},
   "cell_type": "markdown",
   "metadata": {},
   "source": [
    "# Plot signals belonging to same module"
   ]
  },
  {
   "cell_type": "code",
   "execution_count": null,
   "metadata": {},
   "outputs": [],
   "source": [
    "# Compute the correlation matrix\n",
    "corr_modules = swat_data_parquet_scaled_df.corr()\n",
    "\n",
    "# Drop last 3 characters of column names\n",
    "corr_modules.columns = corr_modules.columns.str[-3]\n",
    "# Drop last 3 characters of index names\n",
    "corr_modules.index = corr_modules.index.str[-3]\n",
    "corr_modules\n",
    "\n",
    "# Check if column name for entry is equal to row name, if so, set to 1\n",
    "for i in range(corr_modules.shape[0]):\n",
    "    for j in range(corr_modules.shape[1]):\n",
    "        if corr_modules.columns[i] == corr_modules.index.to_list()[j]:\n",
    "            corr_modules.iloc[i, j] = 1\n",
    "        else:\n",
    "            corr_modules.iloc[i, j] = 0\n",
    "\n",
    "# Set up the matplotlib figure\n",
    "f, ax = plt.subplots(figsize=(11, 11))\n",
    "\n",
    "# Draw the heatmap with the mask and correct aspect ratio\n",
    "sns.heatmap(\n",
    "    corr_modules,\n",
    "    mask=np.eye(40),\n",
    "    cmap=\"viridis\",\n",
    "    square=True,\n",
    "    linewidths=0.5,\n",
    "    cbar_kws={\"shrink\": 0.5},\n",
    "    linecolor=\"grey\",\n",
    "    clip_on=False,\n",
    "    vmin=0,\n",
    "    vmax=1,\n",
    ")"
   ]
  },
  {
   "attachments": {},
   "cell_type": "markdown",
   "metadata": {},
   "source": [
    "# SWaT training results"
   ]
  },
  {
   "cell_type": "code",
   "execution_count": null,
   "metadata": {},
   "outputs": [],
   "source": [
    "swat_static_ep0_sample = pd.read_csv(\"vis_samples/swat/swat_static_ep0_sample.csv\", index_col=0)\n",
    "\n",
    "swat_static_ep0_sample.columns = corr.columns\n",
    "swat_static_ep0_sample.index = corr.index\n",
    "\n",
    "# Set up the matplotlib figure\n",
    "f, ax = plt.subplots(figsize=(11, 11))\n",
    "\n",
    "# Draw the heatmap with the mask and correct aspect ratio\n",
    "sns.heatmap(\n",
    "    swat_static_ep0_sample,\n",
    "    mask=np.eye(40),\n",
    "    cmap=\"viridis\",\n",
    "    square=True,\n",
    "    linewidths=0.5,\n",
    "    cbar_kws={\"shrink\": 0.5},\n",
    "    linecolor=\"grey\",\n",
    "    clip_on=False,\n",
    "    cbar=True,\n",
    "    vmin=0,\n",
    "    vmax=1,\n",
    ")"
   ]
  },
  {
   "cell_type": "code",
   "execution_count": null,
   "metadata": {},
   "outputs": [],
   "source": [
    "swat_dynamic_ep5_sample = pd.read_csv(\"vis_samples/swat/swat_dynamic_ep5_sample.csv\", index_col=0)\n",
    "\n",
    "swat_dynamic_ep5_sample.columns = corr.columns\n",
    "swat_dynamic_ep5_sample.index = corr.index\n",
    "\n",
    "# Set up the matplotlib figure\n",
    "f, ax = plt.subplots(figsize=(11, 11))\n",
    "\n",
    "# Draw the heatmap with the mask and correct aspect ratio\n",
    "sns.heatmap(\n",
    "    swat_dynamic_ep5_sample,\n",
    "    mask=np.eye(40),\n",
    "    cmap=\"viridis\",\n",
    "    square=True,\n",
    "    linewidths=0.5,\n",
    "    cbar_kws={\"shrink\": 0.5},\n",
    "    linecolor=\"grey\",\n",
    "    clip_on=False,\n",
    "    cbar=True,\n",
    "    vmin=0,\n",
    "    vmax=1,\n",
    ")"
   ]
  },
  {
   "cell_type": "code",
   "execution_count": null,
   "metadata": {},
   "outputs": [],
   "source": []
  }
 ],
 "metadata": {
  "kernelspec": {
   "display_name": "cp4sl-lightning",
   "language": "python",
   "name": "python3"
  },
  "language_info": {
   "codemirror_mode": {
    "name": "ipython",
    "version": 3
   },
   "file_extension": ".py",
   "mimetype": "text/x-python",
   "name": "python",
   "nbconvert_exporter": "python",
   "pygments_lexer": "ipython3",
   "version": "3.9.16"
  }
 },
 "nbformat": 4,
 "nbformat_minor": 2
}
