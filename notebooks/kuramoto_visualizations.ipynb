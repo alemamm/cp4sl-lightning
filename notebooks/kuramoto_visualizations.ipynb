{
 "cells": [
  {
   "cell_type": "code",
   "execution_count": null,
   "metadata": {},
   "outputs": [],
   "source": [
    "import numpy as np\n",
    "import torch\n",
    "from kuramoto import Kuramoto\n",
    "from matplotlib import pyplot as plt"
   ]
  },
  {
   "attachments": {},
   "cell_type": "markdown",
   "metadata": {},
   "source": [
    "# Kuramoto Dataset"
   ]
  },
  {
   "cell_type": "code",
   "execution_count": null,
   "metadata": {},
   "outputs": [],
   "source": [
    "cluster_size = 4\n",
    "n_clusters = 2\n",
    "n_timesteps = 300"
   ]
  },
  {
   "cell_type": "code",
   "execution_count": null,
   "metadata": {},
   "outputs": [],
   "source": [
    "def create_adjacency_matrix():\n",
    "    cluster_blocks = []\n",
    "    class_blocks = []\n",
    "    for n in range(0, n_clusters):\n",
    "        cluster_blocks.append(torch.ones([cluster_size, cluster_size]))\n",
    "        class_blocks.append(torch.ones(cluster_size, dtype=torch.int64) * n)\n",
    "    single_sample_adj = torch.block_diag(*cluster_blocks)\n",
    "    return single_sample_adj"
   ]
  },
  {
   "cell_type": "code",
   "execution_count": null,
   "metadata": {},
   "outputs": [],
   "source": [
    "def create_samples(adj=None):\n",
    "    if adj is None:\n",
    "        single_sample_adj = create_adjacency_matrix()\n",
    "    else:\n",
    "        single_sample_adj = adj\n",
    "\n",
    "    nat_freqs = np.random.normal(loc=10, scale=1.0, size=n_clusters * cluster_size)\n",
    "    model = Kuramoto(\n",
    "        coupling=10,\n",
    "        dt=0.001,\n",
    "        T=n_timesteps * 2 * 0.001,  # double timesteos to cover train and val/test ranges\n",
    "        n_nodes=len(single_sample_adj.numpy()),\n",
    "        natfreqs=nat_freqs,\n",
    "    )\n",
    "\n",
    "    act_mat = model.run(\n",
    "        adj_mat=single_sample_adj.numpy(),\n",
    "        angles_vec=np.random.uniform(0, 2 * np.pi, size=n_clusters * cluster_size),\n",
    "    )\n",
    "\n",
    "    return single_sample_adj, act_mat"
   ]
  },
  {
   "cell_type": "code",
   "execution_count": null,
   "metadata": {},
   "outputs": [],
   "source": [
    "adj, act_mat = create_samples()"
   ]
  },
  {
   "cell_type": "code",
   "execution_count": null,
   "metadata": {},
   "outputs": [],
   "source": [
    "def plot_activity_clusters_unique(activities):\n",
    "    \"\"\"\n",
    "    Plot sin(angle) vs time for each oscillator time series.\n",
    "    activity: 2D-np.ndarray\n",
    "        Activity time series, node vs. time; ie output of Kuramoto.run()\n",
    "    return:\n",
    "        matplotlib axis for further customization\n",
    "    \"\"\"\n",
    "    # colors = ['tab_blue', 'tab_orange']\n",
    "    colors = plt.cm.rainbow(np.linspace(0, 1, 8))\n",
    "    linestyles = [\n",
    "        \"dashed\",\n",
    "        \"dashed\",\n",
    "        \"dashed\",\n",
    "        \"dashed\",\n",
    "        \"dashdot\",\n",
    "        \"dashdot\",\n",
    "        \"dashdot\",\n",
    "        \"dashdot\",\n",
    "    ]\n",
    "    print(colors)\n",
    "    plt.clf()\n",
    "\n",
    "    fig, ax0 = plt.subplots(1, 1, figsize=(10, 5))\n",
    "    for activity, color, linestyle in zip(activities, colors, linestyles):\n",
    "        ax0.plot(np.sin(activity.T), c=color, linestyle=linestyle, linewidth=3)\n",
    "        ax0.set_xlabel(\"Step\")\n",
    "        ax0.set_ylabel(r\"$\\sin(\\theta)$\")\n",
    "\n",
    "    ax0.legend([\"0\", \"1\", \"2\", \"3\", \"4\", \"5\", \"6\", \"7\"], bbox_to_anchor=(1.15, 1.0))\n",
    "\n",
    "    return fig"
   ]
  },
  {
   "cell_type": "code",
   "execution_count": null,
   "metadata": {},
   "outputs": [],
   "source": [
    "plt.rcParams.update({\"font.size\": 15})"
   ]
  },
  {
   "cell_type": "code",
   "execution_count": null,
   "metadata": {},
   "outputs": [],
   "source": [
    "plot_activity_clusters_unique(act_mat)"
   ]
  },
  {
   "attachments": {},
   "cell_type": "markdown",
   "metadata": {},
   "source": [
    "Now we shuffle the adjacency to create test data"
   ]
  },
  {
   "cell_type": "code",
   "execution_count": null,
   "metadata": {},
   "outputs": [],
   "source": [
    "# Shuffling rows of the adjacency matrix\n",
    "r = np.array([7, 1, 2, 3, 4, 5, 6, 0])\n",
    "c = np.array([7, 1, 2, 3, 4, 5, 6, 0])\n",
    "shuffled_adj = adj[r[:, None], c]  # shuffles rows\n",
    "shuffled_adj = adj[r][:, c]  # shuffles columns"
   ]
  },
  {
   "cell_type": "code",
   "execution_count": null,
   "metadata": {},
   "outputs": [],
   "source": [
    "shuffled_adj, act_mat_shuffled = create_samples(adj=shuffled_adj)"
   ]
  },
  {
   "cell_type": "code",
   "execution_count": null,
   "metadata": {},
   "outputs": [],
   "source": [
    "plot_activity_clusters_unique(act_mat_shuffled)"
   ]
  },
  {
   "attachments": {},
   "cell_type": "markdown",
   "metadata": {},
   "source": [
    "Let's visualize the adjacency matrices"
   ]
  },
  {
   "cell_type": "code",
   "execution_count": null,
   "metadata": {},
   "outputs": [],
   "source": [
    "plt.imshow(adj)\n",
    "plt.show()"
   ]
  },
  {
   "cell_type": "code",
   "execution_count": null,
   "metadata": {},
   "outputs": [],
   "source": [
    "def show_adjacency_matrix(adj):\n",
    "    fig, ax = plt.subplots()\n",
    "    ax.imshow(adj, cmap=\"Greys\")\n",
    "\n",
    "    # draw gridlines\n",
    "    ax.grid(which=\"major\", axis=\"both\", linestyle=\"-\", color=\"grey\", linewidth=2)\n",
    "    ax.set_xticks(np.arange(-0.5, 8, 1))\n",
    "    ax.set_yticks(np.arange(-0.5, 8, 1))\n",
    "\n",
    "    xticklabelslabels = [\n",
    "        \"           0\",\n",
    "        \"           1\",\n",
    "        \"           2\",\n",
    "        \"           3\",\n",
    "        \"           4\",\n",
    "        \"           5\",\n",
    "        \"           6\",\n",
    "        \"           7\",\n",
    "        \"\",\n",
    "    ]\n",
    "\n",
    "    yticklabelslabels = [\n",
    "        \"\\n\\n\\n0\",\n",
    "        \"\\n\\n\\n1\",\n",
    "        \"\\n\\n\\n2\",\n",
    "        \"\\n\\n\\n3\",\n",
    "        \"\\n\\n\\n4\",\n",
    "        \"\\n\\n\\n5\",\n",
    "        \"\\n\\n\\n6\",\n",
    "        \"\\n\\n\\n7\",\n",
    "        \"\",\n",
    "    ]\n",
    "\n",
    "    ax.set_xticklabels(xticklabelslabels)\n",
    "    ax.set_yticklabels(yticklabelslabels)\n",
    "\n",
    "    ax.xaxis.tick_top()\n",
    "\n",
    "    plt.show()"
   ]
  },
  {
   "cell_type": "code",
   "execution_count": null,
   "metadata": {},
   "outputs": [],
   "source": [
    "show_adjacency_matrix(adj)"
   ]
  },
  {
   "cell_type": "code",
   "execution_count": null,
   "metadata": {},
   "outputs": [],
   "source": [
    "show_adjacency_matrix(shuffled_adj)"
   ]
  },
  {
   "attachments": {},
   "cell_type": "markdown",
   "metadata": {},
   "source": [
    "# Plot in same style as SWaT analyses"
   ]
  },
  {
   "cell_type": "code",
   "execution_count": null,
   "metadata": {},
   "outputs": [],
   "source": [
    "from string import ascii_letters\n",
    "\n",
    "import matplotlib.pyplot as plt\n",
    "import numpy as np\n",
    "import pandas as pd\n",
    "import seaborn as sns\n",
    "\n",
    "sns.set_theme(style=\"white\")"
   ]
  },
  {
   "cell_type": "code",
   "execution_count": null,
   "metadata": {},
   "outputs": [],
   "source": [
    "# Set up the matplotlib figure\n",
    "f, ax = plt.subplots(figsize=(11, 11))\n",
    "\n",
    "# Draw the heatmap with the mask and correct aspect ratio\n",
    "sns.heatmap(\n",
    "    adj,\n",
    "    mask=np.eye(8),\n",
    "    cmap=\"viridis\",\n",
    "    square=True,\n",
    "    linewidths=0.5,\n",
    "    cbar_kws={\"shrink\": 0.5},\n",
    "    linecolor=\"grey\",\n",
    "    clip_on=False,\n",
    "    cbar=True,\n",
    "    vmin=0,\n",
    "    vmax=1,\n",
    ")"
   ]
  },
  {
   "cell_type": "code",
   "execution_count": null,
   "metadata": {},
   "outputs": [],
   "source": [
    "# Set up the matplotlib figure\n",
    "f, ax = plt.subplots(figsize=(11, 11))\n",
    "\n",
    "# Draw the heatmap with the mask and correct aspect ratio\n",
    "sns.heatmap(\n",
    "    shuffled_adj,\n",
    "    mask=np.eye(8),\n",
    "    cmap=\"viridis\",\n",
    "    square=True,\n",
    "    linewidths=0.5,\n",
    "    cbar_kws={\"shrink\": 0.5},\n",
    "    linecolor=\"grey\",\n",
    "    clip_on=False,\n",
    "    cbar=True,\n",
    "    vmin=0,\n",
    "    vmax=1,\n",
    ")"
   ]
  },
  {
   "attachments": {},
   "cell_type": "markdown",
   "metadata": {},
   "source": [
    "# Kuramoto correlation matrix"
   ]
  },
  {
   "cell_type": "code",
   "execution_count": null,
   "metadata": {},
   "outputs": [],
   "source": [
    "seed = 3\n",
    "kuramoto_corr = torch.load(f\"../data/kuramoto/{seed}_2_4/correlation_matrix.pt\").numpy()\n",
    "\n",
    "# Min max scaling as done for calculating the adjacency error\n",
    "kuramoto_corr = (kuramoto_corr - kuramoto_corr.min()) / (kuramoto_corr.max() - kuramoto_corr.min())\n",
    "\n",
    "# Set up the matplotlib figure\n",
    "f, ax = plt.subplots(figsize=(11, 11))\n",
    "\n",
    "# Draw the heatmap with the mask and correct aspect ratio\n",
    "sns.heatmap(\n",
    "    kuramoto_corr,\n",
    "    mask=np.eye(8),\n",
    "    cmap=\"viridis\",\n",
    "    square=True,\n",
    "    linewidths=0.5,\n",
    "    cbar_kws={\"shrink\": 0.5},\n",
    "    linecolor=\"grey\",\n",
    "    clip_on=False,\n",
    "    cbar=True,\n",
    ")"
   ]
  },
  {
   "attachments": {},
   "cell_type": "markdown",
   "metadata": {},
   "source": [
    "# Kuramoto training results"
   ]
  },
  {
   "cell_type": "code",
   "execution_count": null,
   "metadata": {},
   "outputs": [],
   "source": [
    "kuramoto_static_ep50_test = pd.read_csv(\n",
    "    \"vis_samples/kuramoto/kuramoto_static_ep50_test.csv\", index_col=0\n",
    ")\n",
    "\n",
    "# Set up the matplotlib figure\n",
    "f, ax = plt.subplots(figsize=(11, 11))\n",
    "\n",
    "# Draw the heatmap with the mask and correct aspect ratio\n",
    "sns.heatmap(\n",
    "    kuramoto_static_ep50_test,\n",
    "    mask=np.eye(8),\n",
    "    cmap=\"viridis\",\n",
    "    square=True,\n",
    "    linewidths=0.5,\n",
    "    cbar_kws={\"shrink\": 0.5},\n",
    "    linecolor=\"grey\",\n",
    "    clip_on=False,\n",
    "    cbar=True,\n",
    ")"
   ]
  },
  {
   "cell_type": "code",
   "execution_count": null,
   "metadata": {},
   "outputs": [],
   "source": [
    "kuramoto_dynamic_ep50_val_sample_1 = pd.read_csv(\n",
    "    \"vis_samples/kuramoto/kuramoto_dynamic_ep50_val_sample_1.csv\", index_col=0\n",
    ")\n",
    "\n",
    "# Set up the matplotlib figure\n",
    "f, ax = plt.subplots(figsize=(11, 11))\n",
    "\n",
    "# Draw the heatmap with the mask and correct aspect ratio\n",
    "sns.heatmap(\n",
    "    kuramoto_dynamic_ep50_val_sample_1,\n",
    "    mask=np.eye(8),\n",
    "    cmap=\"viridis\",\n",
    "    square=True,\n",
    "    linewidths=0.5,\n",
    "    cbar_kws={\"shrink\": 0.5},\n",
    "    linecolor=\"grey\",\n",
    "    clip_on=False,\n",
    "    cbar=True,\n",
    ")"
   ]
  },
  {
   "cell_type": "code",
   "execution_count": null,
   "metadata": {},
   "outputs": [],
   "source": [
    "kuramoto_dynamic_ep50_val_sample_2 = pd.read_csv(\n",
    "    \"vis_samples/kuramoto/kuramoto_dynamic_ep50_val_sample_2.csv\", index_col=0\n",
    ")\n",
    "\n",
    "# Set up the matplotlib figure\n",
    "f, ax = plt.subplots(figsize=(11, 11))\n",
    "\n",
    "# Draw the heatmap with the mask and correct aspect ratio\n",
    "sns.heatmap(\n",
    "    kuramoto_dynamic_ep50_val_sample_2,\n",
    "    mask=np.eye(8),\n",
    "    cmap=\"viridis\",\n",
    "    square=True,\n",
    "    linewidths=0.5,\n",
    "    cbar_kws={\"shrink\": 0.5},\n",
    "    linecolor=\"grey\",\n",
    "    clip_on=False,\n",
    "    cbar=True,\n",
    ")"
   ]
  },
  {
   "cell_type": "code",
   "execution_count": null,
   "metadata": {},
   "outputs": [],
   "source": [
    "kuramoto_dynamic_ep50_test_sample_1 = pd.read_csv(\n",
    "    \"vis_samples/kuramoto/kuramoto_dynamic_ep50_test_sample_1.csv\", index_col=0\n",
    ")\n",
    "\n",
    "# Set up the matplotlib figure\n",
    "f, ax = plt.subplots(figsize=(11, 11))\n",
    "\n",
    "# Draw the heatmap with the mask and correct aspect ratio\n",
    "sns.heatmap(\n",
    "    kuramoto_dynamic_ep50_test_sample_1,\n",
    "    mask=np.eye(8),\n",
    "    cmap=\"viridis\",\n",
    "    square=True,\n",
    "    linewidths=0.5,\n",
    "    cbar_kws={\"shrink\": 0.5},\n",
    "    linecolor=\"grey\",\n",
    "    clip_on=False,\n",
    "    cbar=True,\n",
    ")"
   ]
  },
  {
   "cell_type": "code",
   "execution_count": null,
   "metadata": {},
   "outputs": [],
   "source": []
  }
 ],
 "metadata": {
  "kernelspec": {
   "display_name": "cp4sl-lightning",
   "language": "python",
   "name": "python3"
  },
  "language_info": {
   "codemirror_mode": {
    "name": "ipython",
    "version": 3
   },
   "file_extension": ".py",
   "mimetype": "text/x-python",
   "name": "python",
   "nbconvert_exporter": "python",
   "pygments_lexer": "ipython3",
   "version": "3.9.16"
  }
 },
 "nbformat": 4,
 "nbformat_minor": 2
}
