{
 "cells": [
  {
   "cell_type": "code",
   "execution_count": null,
   "metadata": {},
   "outputs": [],
   "source": [
    "import numpy as np\n",
    "import torch\n",
    "from matplotlib import pyplot as plt"
   ]
  },
  {
   "cell_type": "code",
   "execution_count": null,
   "metadata": {},
   "outputs": [],
   "source": [
    "train_features = torch.load(\"../data/kuramoto/0_2_4/features_train.pt\")"
   ]
  },
  {
   "cell_type": "code",
   "execution_count": null,
   "metadata": {},
   "outputs": [],
   "source": [
    "train_features = train_features.reshape(-1, 2 * 4, 300)\n",
    "train_features.shape"
   ]
  },
  {
   "cell_type": "code",
   "execution_count": null,
   "metadata": {},
   "outputs": [],
   "source": [
    "# calulate correlation matrix per sample\n",
    "correlations = []\n",
    "for sample in range(train_features.shape[0]):\n",
    "    correlations.append(np.corrcoef(train_features[sample, :, :]))"
   ]
  },
  {
   "cell_type": "code",
   "execution_count": null,
   "metadata": {},
   "outputs": [],
   "source": [
    "# visualize first correlation matrix\n",
    "plt.imshow(correlations[0])\n",
    "plt.show()"
   ]
  },
  {
   "cell_type": "code",
   "execution_count": null,
   "metadata": {},
   "outputs": [],
   "source": [
    "# calculate mean correlation matrix\n",
    "mean_correlation = np.mean(correlations, axis=0)"
   ]
  },
  {
   "cell_type": "code",
   "execution_count": null,
   "metadata": {},
   "outputs": [],
   "source": [
    "# plot mean correlation matrix\n",
    "plt.imshow(mean_correlation)\n",
    "plt.show()"
   ]
  },
  {
   "attachments": {},
   "cell_type": "markdown",
   "metadata": {},
   "source": [
    "# Calculating correlations matrix for each kuramoto dataset\n",
    "i.e. for each seed"
   ]
  },
  {
   "cell_type": "code",
   "execution_count": null,
   "metadata": {},
   "outputs": [],
   "source": [
    "seeds = [0, 1, 2, 3, 4]\n",
    "\n",
    "for seed in seeds:\n",
    "    train_features = torch.load(f\"../data/kuramoto/{seed}_2_4/features_train.pt\")\n",
    "    train_features = train_features.reshape(-1, 2 * 4, 300)\n",
    "    correlations = []\n",
    "    for sample in range(train_features.shape[0]):\n",
    "        correlations.append(np.corrcoef(train_features[sample, :, :]))\n",
    "    mean_correlation = np.mean(correlations, axis=0)\n",
    "    # save correlation matrix as torch tensor to be used as baseline\n",
    "    torch.save(\n",
    "        torch.from_numpy(mean_correlation).float(),\n",
    "        f\"../data/kuramoto/{seed}_2_4/correlation_matrix.pt\",\n",
    "    )\n",
    "    plt.imshow(mean_correlation)\n",
    "    plt.savefig(f\"figures/{seed}_2_4_correlation_matrix.png\")\n",
    "    plt.close()"
   ]
  }
 ],
 "metadata": {
  "kernelspec": {
   "display_name": "cp4sl-lightning",
   "language": "python",
   "name": "python3"
  },
  "language_info": {
   "codemirror_mode": {
    "name": "ipython",
    "version": 3
   },
   "file_extension": ".py",
   "mimetype": "text/x-python",
   "name": "python",
   "nbconvert_exporter": "python",
   "pygments_lexer": "ipython3",
   "version": "3.9.16"
  }
 },
 "nbformat": 4,
 "nbformat_minor": 2
}
